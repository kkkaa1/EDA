{
 "cells": [
  {
   "cell_type": "markdown",
   "id": "e4970f69",
   "metadata": {},
   "source": [
    "## 합성곱 신경망의 구성요소"
   ]
  },
  {
   "cell_type": "markdown",
   "id": "33d51100",
   "metadata": {},
   "source": [
    "### 합성곱: 밀집층과 비슷하게 입력과 가중치를 곱하고 절편을 더하는 선형 계산 하지만 밀집층과 달리 각 합성곱은 입력 전체가 아니라 일부만 사용하여 선형 계산을 수행한다.\n",
    "### 필터  :밀집층의 뉴런에 해당함. 필터의 가중치와 절편을 종종 커널이라고 부름. 자주 사용되는 커널의 크기는 (3,3),(5,5) 커널의 깊이는 입력의 깊이와 동일함.\n",
    "### 특성 맵: 합성곱층이나 풀링층의 출력 배열을 의미함. 필터하나가 하나의 특성 맵을 만듬. 합성곱층에서 5개의 필터를 적용하면 5개의 특성 맵이 만들어짐.\n",
    "### 패딩 : 합성곱층의 입력 주위에 추가한 0 으로 채워진 픽셀 패딩을 사용하지 않는것은 밸리드 패딩이라고함. 합성곱 층의 출력 크기를 입력과 동일하게 만들기 위해 입력에 패딩을 추가하는 것을 세임패딩이라고함.\n",
    "### 스트라이드: 합성곱층에서 필터가 입력 위를 이동하는 크기. 일반적으로 스트라이드는 1픽셀을 사용.\n",
    "### 풀링 : 가중치가 없고 특성 맵의 가로세로 크기를 줄이는 역할을 수행 대표적으로 최대풀링과 평균 풀링이 있으며 (2,2)풀링으로  입력을 절반으로 줄임"
   ]
  },
  {
   "cell_type": "markdown",
   "id": "7deffe78",
   "metadata": {},
   "source": [
    "## 합성곱 신경망을 사용한 이미지분류"
   ]
  },
  {
   "cell_type": "code",
   "execution_count": 1,
   "id": "7516a707",
   "metadata": {},
   "outputs": [],
   "source": [
    "from tensorflow import keras\n",
    "from sklearn.model_selection import train_test_split\n",
    "(train_input,train_target),(test_input,test_target) = keras.datasets.fashion_mnist.load_data()\n",
    "train_scaled = train_input.reshape(-1,28,28,1) /255.0\n",
    "train_scaled,val_scaled,train_target,val_target = train_test_split(train_scaled,train_target,test_size=0.2,random_state=42)"
   ]
  },
  {
   "cell_type": "code",
   "execution_count": 2,
   "id": "3acb8e3f",
   "metadata": {},
   "outputs": [],
   "source": [
    "model = keras.Sequential()\n",
    "model.add(keras.layers.Conv2D(32,kernel_size=3,activation='relu',padding='same',input_shape=(28,28,1)))"
   ]
  },
  {
   "cell_type": "code",
   "execution_count": 3,
   "id": "14c6d528",
   "metadata": {},
   "outputs": [],
   "source": [
    "model.add(keras.layers.MaxPooling2D(2))"
   ]
  },
  {
   "cell_type": "code",
   "execution_count": 6,
   "id": "c542e8c1",
   "metadata": {},
   "outputs": [],
   "source": [
    "model.add(keras.layers.Conv2D(64,kernel_size=3,activation='relu',padding='same'))\n",
    "model.add(keras.layers.MaxPooling2D(2))"
   ]
  },
  {
   "cell_type": "code",
   "execution_count": 7,
   "id": "808fa265",
   "metadata": {},
   "outputs": [],
   "source": [
    "model.add(keras.layers.Flatten())\n",
    "model.add(keras.layers.Dense(100,activation='relu'))\n",
    "model.add(keras.layers.Dropout(0.4))\n",
    "model.add(keras.layers.Dense(10,activation='softmax'))"
   ]
  },
  {
   "cell_type": "code",
   "execution_count": 8,
   "id": "68c401d5",
   "metadata": {},
   "outputs": [
    {
     "name": "stdout",
     "output_type": "stream",
     "text": [
      "Model: \"sequential\"\n",
      "_________________________________________________________________\n",
      " Layer (type)                Output Shape              Param #   \n",
      "=================================================================\n",
      " conv2d (Conv2D)             (None, 28, 28, 32)        320       \n",
      "                                                                 \n",
      " max_pooling2d (MaxPooling2D  (None, 14, 14, 32)       0         \n",
      " )                                                               \n",
      "                                                                 \n",
      " conv2d_1 (Conv2D)           (None, 14, 14, 64)        18496     \n",
      "                                                                 \n",
      " max_pooling2d_1 (MaxPooling  (None, 7, 7, 64)         0         \n",
      " 2D)                                                             \n",
      "                                                                 \n",
      " flatten (Flatten)           (None, 3136)              0         \n",
      "                                                                 \n",
      " dense (Dense)               (None, 100)               313700    \n",
      "                                                                 \n",
      " dropout (Dropout)           (None, 100)               0         \n",
      "                                                                 \n",
      " dense_1 (Dense)             (None, 10)                1010      \n",
      "                                                                 \n",
      "=================================================================\n",
      "Total params: 333,526\n",
      "Trainable params: 333,526\n",
      "Non-trainable params: 0\n",
      "_________________________________________________________________\n"
     ]
    }
   ],
   "source": [
    "model.summary()"
   ]
  },
  {
   "cell_type": "code",
   "execution_count": 17,
   "id": "ba331208",
   "metadata": {},
   "outputs": [
    {
     "name": "stdout",
     "output_type": "stream",
     "text": [
      "You must install pydot (`pip install pydot`) and install graphviz (see instructions at https://graphviz.gitlab.io/download/) for plot_model to work.\n"
     ]
    }
   ],
   "source": [
    "keras.utils.plot_model(model)"
   ]
  },
  {
   "cell_type": "code",
   "execution_count": 19,
   "id": "13b594c6",
   "metadata": {},
   "outputs": [
    {
     "name": "stdout",
     "output_type": "stream",
     "text": [
      "Epoch 1/20\n",
      "1500/1500 [==============================] - 47s 30ms/step - loss: 0.5183 - accuracy: 0.8128 - val_loss: 0.3584 - val_accuracy: 0.8661\n",
      "Epoch 2/20\n",
      "1500/1500 [==============================] - 49s 33ms/step - loss: 0.3398 - accuracy: 0.8791 - val_loss: 0.2717 - val_accuracy: 0.9004\n",
      "Epoch 3/20\n",
      "1500/1500 [==============================] - 50s 33ms/step - loss: 0.2916 - accuracy: 0.8943 - val_loss: 0.2573 - val_accuracy: 0.9057\n",
      "Epoch 4/20\n",
      "1500/1500 [==============================] - 52s 35ms/step - loss: 0.2592 - accuracy: 0.9060 - val_loss: 0.2366 - val_accuracy: 0.9108\n",
      "Epoch 5/20\n",
      "1500/1500 [==============================] - 52s 34ms/step - loss: 0.2347 - accuracy: 0.9118 - val_loss: 0.2300 - val_accuracy: 0.9161\n",
      "Epoch 6/20\n",
      "1500/1500 [==============================] - 50s 33ms/step - loss: 0.2138 - accuracy: 0.9212 - val_loss: 0.2278 - val_accuracy: 0.9196\n",
      "Epoch 7/20\n",
      "1500/1500 [==============================] - 50s 34ms/step - loss: 0.1976 - accuracy: 0.9271 - val_loss: 0.2398 - val_accuracy: 0.9146\n",
      "Epoch 8/20\n",
      "1500/1500 [==============================] - 50s 33ms/step - loss: 0.1817 - accuracy: 0.9320 - val_loss: 0.2423 - val_accuracy: 0.9156\n"
     ]
    }
   ],
   "source": [
    "model.compile(optimizer='adam',loss='sparse_categorical_crossentropy',metrics='accuracy')\n",
    "checkpoint_cb=keras.callbacks.ModelCheckpoint('best-cnn-model.h5',save_best_only=True)\n",
    "early_stopping_cb=keras.callbacks.EarlyStopping(patience=2,restore_best_weights=True)\n",
    "history=model.fit(train_scaled,train_target,epochs=20,validation_data=(val_scaled,val_target),callbacks=[checkpoint_cb,early_stopping_cb])"
   ]
  },
  {
   "cell_type": "code",
   "execution_count": 20,
   "id": "6fcbd0c0",
   "metadata": {},
   "outputs": [
    {
     "data": {
      "image/png": "[encoded data removed]",
      "text/plain": [
       "<Figure size 432x288 with 1 Axes>"
      ]
     },
     "metadata": {
      "needs_background": "light"
     },
     "output_type": "display_data"
    }
   ],
   "source": [
    "import matplotlib.pyplot as plt\n",
    "plt.plot(history.history['loss'])\n",
    "plt.plot(history.history['val_loss'])\n",
    "plt.xlabel('epoch')\n",
    "plt.ylabel('loss')\n",
    "plt.legend(['train','val'])\n",
    "plt.show()"
   ]
  },
  {
   "cell_type": "code",
   "execution_count": 21,
   "id": "edb2afa4",
   "metadata": {},
   "outputs": [
    {
     "name": "stdout",
     "output_type": "stream",
     "text": [
      "375/375 [==============================] - 3s 9ms/step - loss: 0.2278 - accuracy: 0.9196\n"
     ]
    },
    {
     "data": {
      "text/plain": [
       "[0.22779138386249542, 0.9195833206176758]"
      ]
     },
     "execution_count": 21,
     "metadata": {},
     "output_type": "execute_result"
    }
   ],
   "source": [
    "model.evaluate(val_scaled,val_target)\n"
   ]
  },
  {
   "cell_type": "code",
   "execution_count": 33,
   "id": "ee7c5819",
   "metadata": {},
   "outputs": [
    {
     "data": {
      "image/png": "[encoded data removed]",
      "text/plain": [
       "<Figure size 432x288 with 1 Axes>"
      ]
     },
     "metadata": {
      "needs_background": "light"
     },
     "output_type": "display_data"
    }
   ],
   "source": [
    "plt.imshow(val_scaled[2].reshape(28,28),cmap='gray_r')\n",
    "plt.show()"
   ]
  },
  {
   "cell_type": "code",
   "execution_count": 37,
   "id": "664a1b4e",
   "metadata": {},
   "outputs": [
    {
     "name": "stdout",
     "output_type": "stream",
     "text": [
      "1/1 [==============================] - 0s 22ms/step\n",
      "[[5.6235789e-13 3.9731872e-15 3.4258626e-13 7.0782755e-14 2.4308194e-14\n",
      "  1.2159823e-06 9.0060575e-15 9.9999857e-01 6.8613444e-12 2.4478919e-07]]\n"
     ]
    }
   ],
   "source": [
    "pred=model.predict(val_scaled[2:3])\n",
    "print(pred)"
   ]
  },
  {
   "cell_type": "code",
   "execution_count": 38,
   "id": "8b56515d",
   "metadata": {},
   "outputs": [
    {
     "data": {
      "image/png": "[encoded data removed]",
      "text/plain": [
       "<Figure size 432x288 with 1 Axes>"
      ]
     },
     "metadata": {
      "needs_background": "light"
     },
     "output_type": "display_data"
    }
   ],
   "source": [
    "plt.bar(range(1,11), pred[0])\n",
    "plt.xlabel('class')\n",
    "plt.ylabel('prob.')\n",
    "plt.show()"
   ]
  },
  {
   "cell_type": "code",
   "execution_count": null,
   "id": "91aca272",
   "metadata": {},
   "outputs": [],
   "source": []
  },
  {
   "cell_type": "code",
   "execution_count": 39,
   "id": "c644e4a0",
   "metadata": {},
   "outputs": [
    {
     "name": "stdout",
     "output_type": "stream",
     "text": [
      "313/313 [==============================] - 2s 7ms/step - loss: 0.2556 - accuracy: 0.9079\n"
     ]
    },
    {
     "data": {
      "text/plain": [
       "[0.25559869408607483, 0.9078999757766724]"
      ]
     },
     "execution_count": 39,
     "metadata": {},
     "output_type": "execute_result"
    }
   ],
   "source": [
    "test_scaled = test_input.reshape(-1,28,28,1)/255.0\n",
    "model.evaluate(test_scaled,test_target)"
   ]
  },
  {
   "cell_type": "markdown",
   "id": "53591200",
   "metadata": {},
   "source": [
    "## 합성곱 신경망의 시각화"
   ]
  },
  {
   "cell_type": "code",
   "execution_count": 40,
   "id": "e96aa30b",
   "metadata": {},
   "outputs": [],
   "source": [
    "from tensorflow import keras\n",
    "model=keras.models.load_model('best-cnn-model.h5')"
   ]
  },
  {
   "cell_type": "code",
   "execution_count": 41,
   "id": "91672953",
   "metadata": {},
   "outputs": [
    {
     "data": {
      "text/plain": [
       "[<keras.layers.convolutional.conv2d.Conv2D at 0x282ca8f2760>,\n",
       " <keras.layers.pooling.max_pooling2d.MaxPooling2D at 0x282ca8f2a60>,\n",
       " <keras.layers.convolutional.conv2d.Conv2D at 0x282ca8efd30>,\n",
       " <keras.layers.pooling.max_pooling2d.MaxPooling2D at 0x282ca96f670>,\n",
       " <keras.layers.reshaping.flatten.Flatten at 0x282ca982d30>,\n",
       " <keras.layers.core.dense.Dense at 0x282ca982ac0>,\n",
       " <keras.layers.regularization.dropout.Dropout at 0x282ca974c70>,\n",
       " <keras.layers.core.dense.Dense at 0x282ca9678b0>]"
      ]
     },
     "execution_count": 41,
     "metadata": {},
     "output_type": "execute_result"
    }
   ],
   "source": [
    "model.layers"
   ]
  },
  {
   "cell_type": "code",
   "execution_count": 43,
   "id": "f47818c8",
   "metadata": {},
   "outputs": [
    {
     "data": {
      "text/plain": [
       "(TensorShape([3, 3, 1, 32]), TensorShape([32]))"
      ]
     },
     "execution_count": 43,
     "metadata": {},
     "output_type": "execute_result"
    }
   ],
   "source": [
    "conv=model.layers[0]\n",
    "conv.weights[0].shape,conv.weights[1].shape"
   ]
  },
  {
   "cell_type": "code",
   "execution_count": 44,
   "id": "3f48844c",
   "metadata": {},
   "outputs": [
    {
     "data": {
      "text/plain": [
       "(-0.023404025, 0.24866901)"
      ]
     },
     "execution_count": 44,
     "metadata": {},
     "output_type": "execute_result"
    }
   ],
   "source": [
    "conv_weights = conv.weights[0].numpy()\n",
    "conv_weights.mean(),conv_weights.std()"
   ]
  },
  {
   "cell_type": "code",
   "execution_count": 45,
   "id": "9427e861",
   "metadata": {},
   "outputs": [
    {
     "data": {
      "image/png": "[encoded data removed]",
      "text/plain": [
       "<Figure size 432x288 with 1 Axes>"
      ]
     },
     "metadata": {
      "needs_background": "light"
     },
     "output_type": "display_data"
    }
   ],
   "source": [
    "import matplotlib.pyplot as plt\n",
    "plt.hist(conv_weights.reshape(-1,1))\n",
    "plt.xlabel('weight')\n",
    "plt.ylabel('count')\n",
    "plt.show()\n"
   ]
  },
  {
   "cell_type": "code",
   "execution_count": 46,
   "id": "7df5ffc3",
   "metadata": {},
   "outputs": [
    {
     "data": {
      "image/png": "[encoded data removed]",
      "text/plain": [
       "<Figure size 1080x144 with 32 Axes>"
      ]
     },
     "metadata": {
      "needs_background": "light"
     },
     "output_type": "display_data"
    }
   ],
   "source": [
    "fig,axs=plt.subplots(2,16,figsize=(15,2))\n",
    "for i in range(2):\n",
    "    for j in range(16):\n",
    "        axs[i,j].imshow(conv_weights[:,:,0,i*16+j],vmin=-0.5,vmax=0.5)\n",
    "        axs[i,j].axis('off')\n",
    "plt.show()"
   ]
  },
  {
   "cell_type": "code",
   "execution_count": 47,
   "id": "4d116fd6",
   "metadata": {},
   "outputs": [],
   "source": [
    "no_training_model = keras.Sequential()\n",
    "no_training_model.add(keras.layers.Conv2D(32,kernel_size=3,activation='relu',padding='same',input_shape=(28,28,1)))"
   ]
  },
  {
   "cell_type": "code",
   "execution_count": 48,
   "id": "7b05825b",
   "metadata": {},
   "outputs": [
    {
     "data": {
      "text/plain": [
       "TensorShape([3, 3, 1, 32])"
      ]
     },
     "execution_count": 48,
     "metadata": {},
     "output_type": "execute_result"
    }
   ],
   "source": [
    "no_training_conv=no_training_model.layers[0]\n",
    "no_training_conv.weights[0].shape"
   ]
  },
  {
   "cell_type": "code",
   "execution_count": 49,
   "id": "3a941834",
   "metadata": {},
   "outputs": [
    {
     "data": {
      "text/plain": [
       "(0.0041118828, 0.08075301)"
      ]
     },
     "execution_count": 49,
     "metadata": {},
     "output_type": "execute_result"
    }
   ],
   "source": [
    "no_training_weights = no_training_conv.weights[0].numpy()\n",
    "no_training_weights.mean(),no_training_weights.std()"
   ]
  },
  {
   "cell_type": "code",
   "execution_count": 50,
   "id": "05e892d1",
   "metadata": {},
   "outputs": [
    {
     "data": {
      "image/png": "[encoded data removed]",
      "text/plain": [
       "<Figure size 432x288 with 1 Axes>"
      ]
     },
     "metadata": {
      "needs_background": "light"
     },
     "output_type": "display_data"
    }
   ],
   "source": [
    "plt.hist(no_training_weights.reshape(-1,1))\n",
    "plt.xlabel('weight')\n",
    "plt.ylabel('count')\n",
    "plt.show()"
   ]
  },
  {
   "cell_type": "code",
   "execution_count": 51,
   "id": "b63333cf",
   "metadata": {},
   "outputs": [
    {
     "data": {
      "image/png": "[encoded data removed]",
      "text/plain": [
       "<Figure size 1080x144 with 32 Axes>"
      ]
     },
     "metadata": {
      "needs_background": "light"
     },
     "output_type": "display_data"
    }
   ],
   "source": [
    "fig,axs=plt.subplots(2,16,figsize=(15,2))\n",
    "for i in range(2):\n",
    "    for j in range(16):\n",
    "        axs[i,j].imshow(no_training_weights[:,:,0,i*16+j],vmin=-0.5,vmax=0.5)\n",
    "        axs[i,j].axis('off')\n",
    "plt.show()"
   ]
  },
  {
   "cell_type": "code",
   "execution_count": 54,
   "id": "807c4f52",
   "metadata": {},
   "outputs": [],
   "source": [
    "conv_acti=keras.Model(model.input,model.layers[0].output)"
   ]
  },
  {
   "cell_type": "code",
   "execution_count": 55,
   "id": "54f9cfa5",
   "metadata": {},
   "outputs": [
    {
     "data": {
      "image/png": "[encoded data removed]",
      "text/plain": [
       "<Figure size 432x288 with 1 Axes>"
      ]
     },
     "metadata": {
      "needs_background": "light"
     },
     "output_type": "display_data"
    }
   ],
   "source": [
    "(train_input,train_target),(test_input,test_target)=keras.datasets.fashion_mnist.load_data()\n",
    "plt.imshow(train_input[0],cmap='gray_r')\n",
    "plt.show()"
   ]
  },
  {
   "cell_type": "code",
   "execution_count": 56,
   "id": "404a6a0a",
   "metadata": {},
   "outputs": [
    {
     "name": "stdout",
     "output_type": "stream",
     "text": [
      "1/1 [==============================] - 0s 41ms/step\n"
     ]
    }
   ],
   "source": [
    "inputs=train_input[0:1].reshape(-1,28,28,1) / 255.0\n",
    "feature_maps= conv_acti.predict(inputs)"
   ]
  },
  {
   "cell_type": "code",
   "execution_count": 57,
   "id": "3d852c55",
   "metadata": {},
   "outputs": [
    {
     "data": {
      "text/plain": [
       "(1, 28, 28, 32)"
      ]
     },
     "execution_count": 57,
     "metadata": {},
     "output_type": "execute_result"
    }
   ],
   "source": [
    "feature_maps.shape"
   ]
  },
  {
   "cell_type": "code",
   "execution_count": 58,
   "id": "c52939ef",
   "metadata": {},
   "outputs": [
    {
     "data": {
      "image/png": "[encoded data removed]",
      "text/plain": [
       "<Figure size 1080x576 with 32 Axes>"
      ]
     },
     "metadata": {
      "needs_background": "light"
     },
     "output_type": "display_data"
    }
   ],
   "source": [
    "fig,axs=plt.subplots(4,8,figsize=(15,8))\n",
    "for i in range(4):\n",
    "    for j in range(8):\n",
    "        axs[i,j].imshow(feature_maps[0,:,:,i*8+j])\n",
    "        axs[i,j].axis('off')\n",
    "plt.show()"
   ]
  },
  {
   "cell_type": "code",
   "execution_count": 59,
   "id": "172a8360",
   "metadata": {},
   "outputs": [
    {
     "name": "stdout",
     "output_type": "stream",
     "text": [
      "1/1 [==============================] - 0s 63ms/step\n"
     ]
    }
   ],
   "source": [
    "conv2_acti=keras.Model(model.input,model.layers[2].output)\n",
    "inputs=train_input[0:1].reshape(-1,28,28,1)/255.0\n",
    "feature_maps=conv2_acti.predict(inputs)"
   ]
  },
  {
   "cell_type": "code",
   "execution_count": 60,
   "id": "bdb0ec5a",
   "metadata": {},
   "outputs": [
    {
     "data": {
      "text/plain": [
       "(1, 14, 14, 64)"
      ]
     },
     "execution_count": 60,
     "metadata": {},
     "output_type": "execute_result"
    }
   ],
   "source": [
    "feature_maps.shape"
   ]
  },
  {
   "cell_type": "code",
   "execution_count": 62,
   "id": "f5d72f20",
   "metadata": {},
   "outputs": [
    {
     "data": {
      "image/png": "[encoded data removed]",
      "text/plain": [
       "<Figure size 864x864 with 64 Axes>"
      ]
     },
     "metadata": {
      "needs_background": "light"
     },
     "output_type": "display_data"
    }
   ],
   "source": [
    "fig,axs=plt.subplots(8,8,figsize=(12,12))\n",
    "for i in range(8):\n",
    "    for j in range(8):\n",
    "        axs[i,j].imshow(feature_maps[0,:,:,i*8+j])\n",
    "        axs[i,j].axis('off')\n",
    "plt.show()"
   ]
  },
  {
   "cell_type": "code",
   "execution_count": null,
   "id": "2257799e",
   "metadata": {},
   "outputs": [],
   "source": []
  }
 ],
 "metadata": {
  "kernelspec": {
   "display_name": "Python 3 (ipykernel)",
   "language": "python",
   "name": "python3"
  },
  "language_info": {
   "codemirror_mode": {
    "name": "ipython",
    "version": 3
   },
   "file_extension": ".py",
   "mimetype": "text/x-python",
   "name": "python",
   "nbconvert_exporter": "python",
   "pygments_lexer": "ipython3",
   "version": "3.9.12"
  },
  "toc": {
   "base_numbering": 1,
   "nav_menu": {},
   "number_sections": true,
   "sideBar": true,
   "skip_h1_title": false,
   "title_cell": "Table of Contents",
   "title_sidebar": "Contents",
   "toc_cell": false,
   "toc_position": {},
   "toc_section_display": true,
   "toc_window_display": false
  }
 },
 "nbformat": 4,
 "nbformat_minor": 5
}
